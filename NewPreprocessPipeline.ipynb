{
 "cells": [
  {
   "cell_type": "code",
   "execution_count": null,
   "id": "a3f7b148",
   "metadata": {},
   "outputs": [],
   "source": [
    "import xml.etree.ElementTree as ET\n",
    "import numpy as np"
   ]
  },
  {
   "cell_type": "code",
   "execution_count": null,
   "id": "679d91c4",
   "metadata": {},
   "outputs": [],
   "source": [
    "grid_size = 5\n",
    "\n",
    "class_names = ['__background__', 'aeroplane', 'bicycle', 'bird', 'boat',\n",
    "    'bottle', 'bus', 'car', 'cat', 'chair', 'cow', 'diningtable',\n",
    "    'dog', 'horse', 'motorbike', 'person', 'pottedplant',\n",
    "    'sheep', 'sofa', 'train', 'tvmonitor'\n",
    "]\n",
    "name_to_ix = {k:i for i,k in enumerate(class_names)}\n",
    "name_to_ix"
   ]
  },
  {
   "cell_type": "code",
   "execution_count": null,
   "id": "1600e980",
   "metadata": {},
   "outputs": [],
   "source": [
    "tree = ET.parse('test.xml')\n",
    "root = tree.getroot()"
   ]
  },
  {
   "cell_type": "code",
   "execution_count": null,
   "id": "bda22521",
   "metadata": {},
   "outputs": [],
   "source": [
    "# Exploring the tree\n",
    "for x in root:\n",
    "    print(x)"
   ]
  },
  {
   "cell_type": "code",
   "execution_count": null,
   "id": "af9ce82e",
   "metadata": {},
   "outputs": [],
   "source": [
    "# Fetching the dimensions of the image to later use for grid cell classification\n",
    "dims = []\n",
    "for x in root.find('size'):\n",
    "    dims.append(int(x.text))"
   ]
  },
  {
   "cell_type": "code",
   "execution_count": null,
   "id": "e24b0f23",
   "metadata": {},
   "outputs": [],
   "source": [
    "width , height , channels = dims"
   ]
  },
  {
   "cell_type": "code",
   "execution_count": null,
   "id": "552c7881",
   "metadata": {},
   "outputs": [],
   "source": [
    "# An array to store all the objects to later fetch data\n",
    "objects_array = []\n",
    "for x in root.findall('object'):\n",
    "    objects_array.append(x)\n",
    "objects_array"
   ]
  },
  {
   "cell_type": "code",
   "execution_count": null,
   "id": "de68921b",
   "metadata": {},
   "outputs": [],
   "source": []
  },
  {
   "cell_type": "code",
   "execution_count": null,
   "id": "23d35e80",
   "metadata": {},
   "outputs": [],
   "source": [
    "# An array to store all the bounding box coordinates for every image in the image\n",
    "name_arr = []\n",
    "bndbox_array = []\n",
    "for x in objects_array:\n",
    "    # Bounding box logic\n",
    "    temp_arr = []\n",
    "    for y in x.find('bndbox'):\n",
    "        temp_arr.append(int(y.text))\n",
    "    bndbox_array.append(temp_arr)\n",
    "    name_arr.append(x.find('name').text)    \n",
    "\n",
    "bndbox_array\n",
    "\n",
    "index_arr = [name_to_ix[name] for name in name_arr]\n",
    "\n",
    "index_arr\n"
   ]
  },
  {
   "cell_type": "code",
   "execution_count": null,
   "id": "49819e22",
   "metadata": {},
   "outputs": [],
   "source": [
    "def object_in_cell(obj_coords , cell_coords):\n",
    "    obj_xmin ,obj_ymin, obj_xmax , obj_ymax = obj_coords\n",
    "    cell_xmin ,  cell_ymin , cell_xmax , cell_ymax = cell_coords\n",
    "    obj_x_mid = ( obj_xmin + obj_xmax )/ 2\n",
    "    obj_y_mid = ( obj_ymin + obj_ymax )/ 2\n",
    "    if((cell_xmin <= obj_x_mid <= cell_xmax) and (cell_ymin <= obj_y_mid <= cell_ymax)):\n",
    "        return True\n",
    "    return False"
   ]
  },
  {
   "cell_type": "code",
   "execution_count": null,
   "id": "1304571b",
   "metadata": {},
   "outputs": [
    {
     "data": {
      "text/plain": [
       "array([[-1, -1, -1, -1, -1],\n",
       "       [-1,  1, -1, -1, -1],\n",
       "       [-1, -1,  0, -1, -1],\n",
       "       [-1, -1, -1, -1, -1],\n",
       "       [-1, -1, -1, -1, -1]])"
      ]
     },
     "execution_count": 56,
     "metadata": {},
     "output_type": "execute_result"
    }
   ],
   "source": [
    "grid_placements_index = np.full((grid_size,grid_size),-1)\n",
    "\n",
    "grid_horiz_start = 0\n",
    "grid_horiz_end = width/grid_size\n",
    "grid_vert_start = 0\n",
    "grid_vert_end = height/grid_size\n",
    "for x in range(grid_size):\n",
    "    for y in range(grid_size):\n",
    "        cell_coords = [grid_horiz_start , grid_vert_start , grid_horiz_end , grid_vert_end]\n",
    "        for i,z in enumerate(bndbox_array):\n",
    "            if object_in_cell(z , cell_coords):\n",
    "                grid_placements_index[x][y] =  i\n",
    "                break \n",
    "        grid_horiz_start += width/grid_size \n",
    "        grid_horiz_end += width/grid_size        \n",
    "    grid_horiz_start = 0 \n",
    "    grid_horiz_end = width/grid_size\n",
    "    grid_vert_start += height/grid_size \n",
    "    grid_vert_end += height/grid_size        \n",
    "\n",
    "grid_placements_index"
   ]
  },
  {
   "cell_type": "code",
   "execution_count": null,
   "id": "ac8dbedc",
   "metadata": {},
   "outputs": [
    {
     "data": {
      "text/plain": [
       "array([1.        , 0.251     , 0.36666667, 0.494     , 0.392     ,\n",
       "       0.        , 0.        , 0.        , 0.        , 0.        ,\n",
       "       0.        , 0.        , 0.        , 0.        , 0.        ,\n",
       "       0.        , 0.        , 0.        , 0.        , 0.        ,\n",
       "       0.        , 0.        , 0.        , 1.        , 0.        ])"
      ]
     },
     "execution_count": 57,
     "metadata": {},
     "output_type": "execute_result"
    }
   ],
   "source": [
    "num_classes = len(class_names)-1\n",
    "default_y_label = [0] + [0]*4 + [0]*num_classes\n",
    "\n",
    "y_label_arr = np.zeros((grid_size, grid_size, len(default_y_label)), dtype='float')\n",
    "\n",
    "\n",
    "# Initialize each cell with the default label\n",
    "for i in range(grid_size):\n",
    "    for j in range(grid_size):\n",
    "        y_label_arr[i][j] = default_y_label.copy()\n",
    "\n",
    "def label_array(grid_placements_index):\n",
    "    for x in range(grid_size):\n",
    "        for y in range(grid_size):\n",
    "            if(grid_placements_index[x][y] >= 0):\n",
    "                encode_class = [0]*num_classes\n",
    "                encode_class[index_arr[grid_placements_index[x][y]]] = 1\n",
    "                xmin ,ymin, xmax , ymax = bndbox_array[grid_placements_index[x][y]] \n",
    "                cx = ((xmin + xmax) / 2) / width     # center x normalized\n",
    "                cy = ((ymin + ymax) / 2) / height     # center y normalized\n",
    "                bw = (xmax - xmin) / width           # box width normalized\n",
    "                bh = (ymax - ymin) / height \n",
    "                constructed_y_label = [1, cx, cy, bw, bh] + encode_class\n",
    "                y_label_arr[x][y][:] = constructed_y_label\n",
    "    return y_label_arr\n",
    "y_true = label_array(grid_placements_index)"
   ]
  },
  {
   "cell_type": "code",
   "execution_count": null,
   "id": "593a61ec",
   "metadata": {},
   "outputs": [],
   "source": []
  }
 ],
 "metadata": {
  "kernelspec": {
   "display_name": "dino",
   "language": "python",
   "name": "python3"
  },
  "language_info": {
   "codemirror_mode": {
    "name": "ipython",
    "version": 3
   },
   "file_extension": ".py",
   "mimetype": "text/x-python",
   "name": "python",
   "nbconvert_exporter": "python",
   "pygments_lexer": "ipython3",
   "version": "3.13.5"
  }
 },
 "nbformat": 4,
 "nbformat_minor": 5
}
