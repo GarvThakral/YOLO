{
 "cells": [
  {
   "cell_type": "code",
   "execution_count": 81,
   "id": "a3f7b148",
   "metadata": {},
   "outputs": [],
   "source": [
    "import xml.etree.ElementTree as ET\n",
    "import numpy as np"
   ]
  },
  {
   "cell_type": "code",
   "execution_count": 131,
   "id": "679d91c4",
   "metadata": {},
   "outputs": [
    {
     "data": {
      "text/plain": [
       "{'__background__': 0,\n",
       " 'aeroplane': 1,\n",
       " 'bicycle': 2,\n",
       " 'bird': 3,\n",
       " 'boat': 4,\n",
       " 'bottle': 5,\n",
       " 'bus': 6,\n",
       " 'car': 7,\n",
       " 'cat': 8,\n",
       " 'chair': 9,\n",
       " 'cow': 10,\n",
       " 'diningtable': 11,\n",
       " 'dog': 12,\n",
       " 'horse': 13,\n",
       " 'motorbike': 14,\n",
       " 'person': 15,\n",
       " 'pottedplant': 16,\n",
       " 'sheep': 17,\n",
       " 'sofa': 18,\n",
       " 'train': 19,\n",
       " 'tvmonitor': 20}"
      ]
     },
     "execution_count": 131,
     "metadata": {},
     "output_type": "execute_result"
    }
   ],
   "source": [
    "class_names = ['__background__', 'aeroplane', 'bicycle', 'bird', 'boat',\n",
    "    'bottle', 'bus', 'car', 'cat', 'chair', 'cow', 'diningtable',\n",
    "    'dog', 'horse', 'motorbike', 'person', 'pottedplant',\n",
    "    'sheep', 'sofa', 'train', 'tvmonitor'\n",
    "]\n",
    "name_to_ix = {k:i for i,k in enumerate(class_names)}\n",
    "name_to_ix"
   ]
  },
  {
   "cell_type": "code",
   "execution_count": 53,
   "id": "1600e980",
   "metadata": {},
   "outputs": [],
   "source": [
    "tree = ET.parse('test.xml')\n",
    "root = tree.getroot()"
   ]
  },
  {
   "cell_type": "code",
   "execution_count": null,
   "id": "bda22521",
   "metadata": {},
   "outputs": [
    {
     "name": "stdout",
     "output_type": "stream",
     "text": [
      "<Element 'folder' at 0x7c7c7fef18a0>\n",
      "<Element 'filename' at 0x7c7c7ffde160>\n",
      "<Element 'source' at 0x7c7c7ffded40>\n",
      "<Element 'size' at 0x7c7c7ffdef70>\n",
      "<Element 'segmented' at 0x7c7c7ffdf830>\n",
      "<Element 'object' at 0x7c7c7ffdf9c0>\n",
      "<Element 'object' at 0x7c7c7ffdf650>\n"
     ]
    }
   ],
   "source": [
    "# Exploring the tree\n",
    "for x in root:\n",
    "    print(x)"
   ]
  },
  {
   "cell_type": "code",
   "execution_count": null,
   "id": "af9ce82e",
   "metadata": {},
   "outputs": [],
   "source": [
    "# Fetching the dimensions of the image to later use for grid cell classification\n",
    "dims = []\n",
    "for x in root.find('size'):\n",
    "    dims.append(int(x.text))"
   ]
  },
  {
   "cell_type": "code",
   "execution_count": 97,
   "id": "e24b0f23",
   "metadata": {},
   "outputs": [],
   "source": [
    "width , height , channels = dims"
   ]
  },
  {
   "cell_type": "code",
   "execution_count": null,
   "id": "552c7881",
   "metadata": {},
   "outputs": [
    {
     "data": {
      "text/plain": [
       "[<Element 'object' at 0x7c7c7ffdf9c0>, <Element 'object' at 0x7c7c7ffdf650>]"
      ]
     },
     "execution_count": 67,
     "metadata": {},
     "output_type": "execute_result"
    }
   ],
   "source": [
    "# An array to store all the objects to later fetch data\n",
    "objects_array = []\n",
    "for x in root.findall('object'):\n",
    "    objects_array.append(x)\n",
    "objects_array"
   ]
  },
  {
   "cell_type": "code",
   "execution_count": null,
   "id": "de68921b",
   "metadata": {},
   "outputs": [],
   "source": []
  },
  {
   "cell_type": "code",
   "execution_count": 133,
   "id": "23d35e80",
   "metadata": {},
   "outputs": [
    {
     "data": {
      "text/plain": [
       "[8, 18]"
      ]
     },
     "execution_count": 133,
     "metadata": {},
     "output_type": "execute_result"
    }
   ],
   "source": [
    "# An array to store all the bounding box coordinates for every image in the image\n",
    "name_arr = []\n",
    "bndbox_array = []\n",
    "for x in objects_array:\n",
    "    # Bounding box logic\n",
    "    temp_arr = []\n",
    "    for y in x.find('bndbox'):\n",
    "        temp_arr.append(int(y.text))\n",
    "    bndbox_array.append(temp_arr)\n",
    "    name_arr.append(x.find('name').text)    \n",
    "bndbox_array\n",
    "\n",
    "index_arr = [name_to_ix[name] for name in name_arr]\n",
    "\n",
    "index_arr\n"
   ]
  },
  {
   "cell_type": "code",
   "execution_count": 115,
   "id": "49819e22",
   "metadata": {},
   "outputs": [],
   "source": [
    "def object_in_cell(obj_coords , cell_coords):\n",
    "    obj_xmin ,obj_ymin, obj_xmax , obj_ymax = obj_coords\n",
    "    cell_xmin ,  cell_ymin , cell_xmax , cell_ymax = cell_coords\n",
    "    obj_x_mid = ( obj_xmin + obj_xmax )/ 2\n",
    "    obj_y_mid = ( obj_ymin + obj_ymax )/ 2\n",
    "    if((cell_xmin <= obj_x_mid <= cell_xmax) and (cell_ymin <= obj_y_mid <= cell_ymax)):\n",
    "        return True\n",
    "    return False"
   ]
  },
  {
   "cell_type": "code",
   "execution_count": 128,
   "id": "1304571b",
   "metadata": {},
   "outputs": [
    {
     "data": {
      "text/plain": [
       "array([[-1, -1, -1, -1, -1],\n",
       "       [-1,  1, -1, -1, -1],\n",
       "       [-1, -1,  0, -1, -1],\n",
       "       [-1, -1, -1, -1, -1],\n",
       "       [-1, -1, -1, -1, -1]])"
      ]
     },
     "execution_count": 128,
     "metadata": {},
     "output_type": "execute_result"
    }
   ],
   "source": [
    "grid_size = 5\n",
    "grid_placements_index = np.full((grid_size,grid_size),-1)\n",
    "\n",
    "grid_horiz_start = 0\n",
    "grid_horiz_end = width/grid_size\n",
    "grid_vert_start = 0\n",
    "grid_vert_end = height/grid_size\n",
    "for x in range(grid_size):\n",
    "    for y in range(grid_size):\n",
    "        cell_coords = [grid_horiz_start , grid_vert_start , grid_horiz_end , grid_vert_end]\n",
    "        for i,z in enumerate(bndbox_array):\n",
    "            if object_in_cell(z , cell_coords):\n",
    "                grid_placements_index[x][y] =  i\n",
    "                break \n",
    "        grid_horiz_start += width/grid_size \n",
    "        grid_horiz_end += width/grid_size        \n",
    "    grid_horiz_start = 0 \n",
    "    grid_horiz_end = width/grid_size\n",
    "    grid_vert_start += height/grid_size \n",
    "    grid_vert_end += height/grid_size        \n",
    "\n",
    "grid_placements_index"
   ]
  },
  {
   "cell_type": "code",
   "execution_count": null,
   "id": "ac8dbedc",
   "metadata": {},
   "outputs": [
    {
     "data": {
      "text/plain": [
       "array([[[  0.,   0.,   0., ...,   0.,   0.,   0.],\n",
       "        [  0.,   0.,   0., ...,   0.,   0.,   0.],\n",
       "        [  0.,   0.,   0., ...,   0.,   0.,   0.],\n",
       "        [  0.,   0.,   0., ...,   0.,   0.,   0.],\n",
       "        [  0.,   0.,   0., ...,   0.,   0.,   0.]],\n",
       "\n",
       "       [[  0.,   0.,   0., ...,   0.,   0.,   0.],\n",
       "        [  1.,   2.,  64., ...,   0.,   0.,   0.],\n",
       "        [  0.,   0.,   0., ...,   0.,   0.,   0.],\n",
       "        [  0.,   0.,   0., ...,   0.,   0.,   0.],\n",
       "        [  0.,   0.,   0., ...,   0.,   0.,   0.]],\n",
       "\n",
       "       [[  0.,   0.,   0., ...,   0.,   0.,   0.],\n",
       "        [  0.,   0.,   0., ...,   0.,   0.,   0.],\n",
       "        [  1.,  54., 113., ...,   0.,   0.,   0.],\n",
       "        [  0.,   0.,   0., ...,   0.,   0.,   0.],\n",
       "        [  0.,   0.,   0., ...,   0.,   0.,   0.]],\n",
       "\n",
       "       [[  0.,   0.,   0., ...,   0.,   0.,   0.],\n",
       "        [  0.,   0.,   0., ...,   0.,   0.,   0.],\n",
       "        [  0.,   0.,   0., ...,   0.,   0.,   0.],\n",
       "        [  0.,   0.,   0., ...,   0.,   0.,   0.],\n",
       "        [  0.,   0.,   0., ...,   0.,   0.,   0.]],\n",
       "\n",
       "       [[  0.,   0.,   0., ...,   0.,   0.,   0.],\n",
       "        [  0.,   0.,   0., ...,   0.,   0.,   0.],\n",
       "        [  0.,   0.,   0., ...,   0.,   0.,   0.],\n",
       "        [  0.,   0.,   0., ...,   0.,   0.,   0.],\n",
       "        [  0.,   0.,   0., ...,   0.,   0.,   0.]]], shape=(5, 5, 45))"
      ]
     },
     "execution_count": 164,
     "metadata": {},
     "output_type": "execute_result"
    }
   ],
   "source": [
    "num_classes = 40\n",
    "default_y_label = [0] + [0]*4 + [0]*num_classes\n",
    "\n",
    "y_label_arr = np.empty((grid_size, grid_size), dtype='object')\n",
    "\n",
    "# Initialize each cell with the default label\n",
    "for i in range(grid_size):\n",
    "    for j in range(grid_size):\n",
    "        y_label_arr[i][j] = default_y_label.copy()\n",
    "\n",
    "def label_array(grid_placements_index):\n",
    "    for x in range(grid_size):\n",
    "        for y in range(grid_size):\n",
    "            if(grid_placements_index[x][y] >= 0):\n",
    "                encode_class = [0]*num_classes\n",
    "                encode_class[index_arr[grid_placements_index[x][y]]] = 1\n",
    "                constructed_y_label = [1] + bndbox_array[grid_placements_index[x][y]] + encode_class\n",
    "                y_label_arr[x][y] = constructed_y_label\n",
    "    return y_label_arr\n",
    "label_array(grid_placements_index)\n",
    "\n"
   ]
  }
 ],
 "metadata": {
  "kernelspec": {
   "display_name": "dino",
   "language": "python",
   "name": "python3"
  },
  "language_info": {
   "codemirror_mode": {
    "name": "ipython",
    "version": 3
   },
   "file_extension": ".py",
   "mimetype": "text/x-python",
   "name": "python",
   "nbconvert_exporter": "python",
   "pygments_lexer": "ipython3",
   "version": "3.13.5"
  }
 },
 "nbformat": 4,
 "nbformat_minor": 5
}
